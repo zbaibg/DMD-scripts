{
 "cells": [
  {
   "cell_type": "code",
   "execution_count": 1,
   "metadata": {},
   "outputs": [],
   "source": [
    "import os\n",
    "import numpy as np\n",
    "from glob import glob\n",
    "import DMDana.lib.DMDparser as DMDparser\n",
    "import importlib"
   ]
  },
  {
   "cell_type": "code",
   "execution_count": 2,
   "metadata": {},
   "outputs": [],
   "source": [
    "folders='''/scratch/groups/ping_group/zbai29/RhSi/DMD/0.2eV-Andrew/0.0005\n",
    "/scratch/groups/ping_group/zbai29/RhSi/DMD/0.2-init2/0.0005\n",
    "/scratch/groups/ping_group/zbai29/RhSi/DMD/0.2eV-Andrew/low-window/0.0005\n",
    "/scratch/groups/ping_group/zbai29/RhSi/DMD/0.2eV-Andrew/low-window/highK/0.0005\n",
    "/scratch/groups/ping_group/zbai29/RhSi/DMD/0.3eV/0.00005-Andrew\n",
    "/scratch/groups/ping_group/zbai29/RhSi/DMD/0.3eV/0.00050\n",
    "/scratch/groups/ping_group/zbai29/RhSi/DMD/0.5eV-Andrew/0.00005\n",
    "/scratch/groups/ping_group/zbai29/RhSi/DMD/Rafi-LC/0.00050\n",
    "/scratch/groups/ping_group/zbai29/RhSi/DMD/0.6eV-Andrew/0.00005\n",
    "/scratch/groups/ping_group/zbai29/RhSi/DMD/0.7eV/0.00050\n",
    "/scratch/groups/ping_group/zbai29/RhSi/DMD/0.8eV/0.00050\n",
    "/scratch/groups/ping_group/zbai29/RhSi/init/init_N1_W0.381/DMD/0.5eV_with_ee/0.00005\n",
    "/scratch/groups/ping_group/zbai29/RhSi/init/init_N1_W0.381/DMD/0.5eV/0.00005\n",
    "/scratch/groups/ping_group/zbai29/RhSi/init/init_N1_W0.381/DMD/0.5eV_with_ee_epsilon1/0.00005\n",
    "/scratch/groups/ping_group/zbai29/RhSi/init/init_N1_W0.381/DMD/0.5eV-RTA-tau0.011/0.00005\n",
    "/scratch/groups/ping_group/zbai29/RhSi/init/init_N1_W0.381/DMD/0.5eV-RTA-tau0.11/0.00005\n",
    "/scratch/groups/ping_group/zbai29/RhSi/init/init_N1_W0.381/DMD/0.5eV-RTA-tau1.1/0.00005\n",
    "/scratch/groups/ping_group/zbai29/RhSi/init/init_N1_W0.381/DMD/0.5eV/0.00005\n",
    "/scratch/groups/ping_group/zbai29/RhSi/init/init_morek/DMD/0.5eV/0.00005\n",
    "/scratch/groups/ping_group/zbai29/RhSi/init/init_morek/DMD/0.5eV/0.00005\n",
    "/scratch/groups/ping_group/zbai29/RhSi/init/init_morek_bigsmearing/DMD/0.5eV/0.00005\n",
    "/scratch/groups/ping_group/zbai29/RhSi/init/init_N1_W0.381/DMD/0.5eV-linear/0.00005\n",
    "/scratch/groups/ping_group/zbai29/GaAs_SOC_20231130/ld-dmd-current/t300/mult8_gauss0.005/ExEy_Diag_Occup_45\n",
    "/scratch/groups/ping_group/zbai29/GaAs_SOC_20231130/ld-dmd-current/t300/mult8_gauss0.005/ExEy_Diag_Occup_45_pheno\n",
    "/scratch/groups/ping_group/zbai29/GaAs_SOC_20231130/ld-dmd-current/t300/mult8_gauss0.005/ExEy_Diag_Occup_45_pheno_lightreverse\n",
    "/scratch/groups/ping_group/zbai29/GaAs_SOC_20231130/ld-dmd-current/t300/mult8_gauss0.005/DMD_new/1.5eV/0.00050-RTA-nondoped\n",
    "/scratch/groups/ping_group/zbai29/GaAs_SOC_20231130/ld-dmd-current/t300/mult8_gauss0.005/DMD_new/1.5eV/0.00050-RTA\n",
    "/scratch/groups/ping_group/zbai29/GaAs_SOC_20231130/ld-dmd-current/t300/mult8_gauss0.005/DMD_new/1.5eV/0.00050-RTA0.011\n",
    "/scratch/groups/ping_group/zbai29/GaAs_SOC_20231130/ld-dmd-current/t300/mult8_gauss0.005/DMD_new/1.5eV/0.00050-rec0.22-RTA\n",
    "/scratch/groups/ping_group/zbai29/GaAs_SOC_20231130/ld-dmd-current/t300/mult8_gauss0.005/DMD_new/1.5eV/0.00050-rec0.022-RTA\n",
    "/scratch/groups/ping_group/zbai29/GaAs_SOC_20231130/ld-dmd-current/t300/mult8_gauss0.005/DMD_new/1.5eV/0.00050-noee\n",
    "/scratch/groups/ping_group/zbai29/GaAs_SOC_20231130/ld-dmd-current/t300/mult8_gauss0.005/DMD_new/1.5eV/0.00050-eph-nondoped-rec0.22\n",
    "/scratch/groups/ping_group/zbai29/GaAs_SOC_20231130/ld-dmd-current/t300/mult8_gauss0.005/DMD_new/1.5eV/0.00050-ephee-nondoped-rec0.22'''"
   ]
  },
  {
   "cell_type": "code",
   "execution_count": 4,
   "metadata": {},
   "outputs": [],
   "source": [
    "\n",
    "from DMDana.lib.constant import *\n",
    "def parse_occup(occup_path):\n",
    "    t=DMDparser.read_text_from_file(occup_path,['nk ='],[12],True,float)[0]\n",
    "    assert t!=None, \"file %s might be empty\"%occup_path\n",
    "    nstep=occup_path.split('/')[-1].split('_')[-1].split('-')[-1].split('.')[0]\n",
    "    if nstep!='t0':\n",
    "        nstep=int(nstep)\n",
    "    else:\n",
    "        nstep=1\n",
    "    return nstep,t\n",
    "def get_tstep(folder):\n",
    "    DMDparam_value=DMDparser.get_DMD_param(folder)\n",
    "\n",
    "    return float(DMDparam_value['tstep_pump'])*fs"
   ]
  },
  {
   "cell_type": "markdown",
   "metadata": {},
   "source": [
    "Check if these is any filename mistake"
   ]
  },
  {
   "cell_type": "code",
   "execution_count": 26,
   "metadata": {},
   "outputs": [
    {
     "name": "stdout",
     "output_type": "stream",
     "text": [
      "excel_i\tnum\ttime\tstep_fs\ttime_match\n",
      "2\t1\t1.0\t1.000\tTrue\t/scratch/groups/ping_group/zbai29/RhSi/DMD/0.2eV-Andrew/0.0005\n",
      "3\t1\t1.0\t1.000\tTrue\t/scratch/groups/ping_group/zbai29/RhSi/DMD/0.2-init2/0.0005\n",
      "4\t1\t1.0\t1.000\tTrue\t/scratch/groups/ping_group/zbai29/RhSi/DMD/0.2eV-Andrew/low-window/0.0005\n",
      "5\t0\t1.0\t1.000\tTrue\t/scratch/groups/ping_group/zbai29/RhSi/DMD/0.2eV-Andrew/low-window/highK/0.0005\n",
      "6\t1\t1.0\t1.000\tTrue\t/scratch/groups/ping_group/zbai29/RhSi/DMD/0.3eV/0.00005-Andrew\n",
      "7\t1\t1.0\t1.000\tTrue\t/scratch/groups/ping_group/zbai29/RhSi/DMD/0.3eV/0.00050\n",
      "8\t1\t1.0\t1.000\tTrue\t/scratch/groups/ping_group/zbai29/RhSi/DMD/0.5eV-Andrew/0.00005\n",
      "9\t1\t1.0\t1.000\tTrue\t/scratch/groups/ping_group/zbai29/RhSi/DMD/Rafi-LC/0.00050\n",
      "10\t1\t1.0\t1.000\tTrue\t/scratch/groups/ping_group/zbai29/RhSi/DMD/0.6eV-Andrew/0.00005\n",
      "11\t1\t1.0\t1.000\tTrue\t/scratch/groups/ping_group/zbai29/RhSi/DMD/0.7eV/0.00050\n",
      "12\t1\t14771.0\t1.000\tTrue\t/scratch/groups/ping_group/zbai29/RhSi/DMD/0.8eV/0.00050\n",
      "13\t1\t1.0\t1.000\tTrue\t/scratch/groups/ping_group/zbai29/RhSi/init/init_N1_W0.381/DMD/0.5eV_with_ee/0.00005\n",
      "14\t82\t19919.0\t1.000\tTrue\t/scratch/groups/ping_group/zbai29/RhSi/init/init_N1_W0.381/DMD/0.5eV/0.00005\n",
      "15\t1\t1.0\t1.000\tTrue\t/scratch/groups/ping_group/zbai29/RhSi/init/init_N1_W0.381/DMD/0.5eV_with_ee_epsilon1/0.00005\n",
      "16\t1\t1.0\t1.000\tTrue\t/scratch/groups/ping_group/zbai29/RhSi/init/init_N1_W0.381/DMD/0.5eV-RTA-tau0.011/0.00005\n",
      "17\t1\t13479.0\t1.000\tTrue\t/scratch/groups/ping_group/zbai29/RhSi/init/init_N1_W0.381/DMD/0.5eV-RTA-tau0.11/0.00005\n",
      "18\t1\t1.0\t1.000\tTrue\t/scratch/groups/ping_group/zbai29/RhSi/init/init_N1_W0.381/DMD/0.5eV-RTA-tau1.1/0.00005\n",
      "19\t82\t19919.0\t1.000\tTrue\t/scratch/groups/ping_group/zbai29/RhSi/init/init_N1_W0.381/DMD/0.5eV/0.00005\n",
      "20\t1\t1.0\t1.000\tTrue\t/scratch/groups/ping_group/zbai29/RhSi/init/init_morek/DMD/0.5eV/0.00005\n",
      "21\t1\t1.0\t1.000\tTrue\t/scratch/groups/ping_group/zbai29/RhSi/init/init_morek/DMD/0.5eV/0.00005\n",
      "22\t1\t1.0\t1.000\tTrue\t/scratch/groups/ping_group/zbai29/RhSi/init/init_morek_bigsmearing/DMD/0.5eV/0.00005\n",
      "23\t1\t1.0\t1.000\tTrue\t/scratch/groups/ping_group/zbai29/RhSi/init/init_N1_W0.381/DMD/0.5eV-linear/0.00005\n",
      "24\t1\t1.0\t1.000\tTrue\t/scratch/groups/ping_group/zbai29/GaAs_SOC_20231130/ld-dmd-current/t300/mult8_gauss0.005/ExEy_Diag_Occup_45\n",
      "25\t1\t1.0\t1.000\tTrue\t/scratch/groups/ping_group/zbai29/GaAs_SOC_20231130/ld-dmd-current/t300/mult8_gauss0.005/ExEy_Diag_Occup_45_pheno\n",
      "26\t1\t1.0\t1.000\tTrue\t/scratch/groups/ping_group/zbai29/GaAs_SOC_20231130/ld-dmd-current/t300/mult8_gauss0.005/ExEy_Diag_Occup_45_pheno_lightreverse\n",
      "27\t1\t1.0\t1.000\tTrue\t/scratch/groups/ping_group/zbai29/GaAs_SOC_20231130/ld-dmd-current/t300/mult8_gauss0.005/DMD_new/1.5eV/0.00050-RTA-nondoped\n",
      "28\t111\t11242.0\t1.000\tTrue\t/scratch/groups/ping_group/zbai29/GaAs_SOC_20231130/ld-dmd-current/t300/mult8_gauss0.005/DMD_new/1.5eV/0.00050-RTA\n",
      "29\t3359\t15651.0\t1.000\tTrue\t/scratch/groups/ping_group/zbai29/GaAs_SOC_20231130/ld-dmd-current/t300/mult8_gauss0.005/DMD_new/1.5eV/0.00050-RTA0.011\n",
      "30\t1\t1.0\t1.000\tTrue\t/scratch/groups/ping_group/zbai29/GaAs_SOC_20231130/ld-dmd-current/t300/mult8_gauss0.005/DMD_new/1.5eV/0.00050-rec0.22-RTA\n",
      "31\t1\t1.0\t1.000\tTrue\t/scratch/groups/ping_group/zbai29/GaAs_SOC_20231130/ld-dmd-current/t300/mult8_gauss0.005/DMD_new/1.5eV/0.00050-rec0.022-RTA\n",
      "32\t2845\t14919.0\t1.000\tTrue\t/scratch/groups/ping_group/zbai29/GaAs_SOC_20231130/ld-dmd-current/t300/mult8_gauss0.005/DMD_new/1.5eV/0.00050-noee\n",
      "33\t2354\t14314.0\t1.000\tTrue\t/scratch/groups/ping_group/zbai29/GaAs_SOC_20231130/ld-dmd-current/t300/mult8_gauss0.005/DMD_new/1.5eV/0.00050-eph-nondoped-rec0.22\n",
      "34\t1883\t13631.0\t1.000\tTrue\t/scratch/groups/ping_group/zbai29/GaAs_SOC_20231130/ld-dmd-current/t300/mult8_gauss0.005/DMD_new/1.5eV/0.00050-ephee-nondoped-rec0.22\n"
     ]
    }
   ],
   "source": [
    "print('excel_i\\tnum\\ttime\\tstep_fs\\ttime_match')\n",
    "for i,folder in enumerate(folders.split()):\n",
    "    excel_i=2+i\n",
    "    t0=glob(folder+'/occupations_t0.out')\n",
    "    #assert t0!=[], \"Did not found occupations_t0.out at folder %s\"%folder\n",
    "    not0 = sorted(glob(folder+'/occupations-[1-9][1-9][1-9][1-9][1-9].out'))\n",
    "    witht0=t0+not0\n",
    "    tstep=get_tstep(folder)\n",
    "    \n",
    "    for occup_path in witht0:\n",
    "        nstep, t = parse_occup(occup_path)\n",
    "        #print(t,nstep)\n",
    "        realstepnum=round(t/tstep)\n",
    "        realtime=t/fs\n",
    "        timematch=(nstep==realstepnum)\n",
    "        if not timematch:\n",
    "            print('%d\\t%d\\t%.1f\\t%.3f\\t%s\\t%s'%(excel_i,len(witht0),realtime,(tstep/fs),timematch,folder))\n",
    "            break\n",
    "    if timematch:\n",
    "        print('%d\\t%d\\t%.1f\\t%.3f\\t%s\\t%s'%(excel_i,len(witht0),realtime,(tstep/fs),timematch,folder))\n"
   ]
  },
  {
   "cell_type": "markdown",
   "metadata": {},
   "source": [
    "Correct filenames"
   ]
  },
  {
   "cell_type": "code",
   "execution_count": 27,
   "metadata": {},
   "outputs": [],
   "source": [
    "import shutil\n",
    "def correct_occup_name(folder):\n",
    "    t0=glob(folder+'/occupations_t0.out')\n",
    "    #assert t0!=[], \"Did not found occupations_t0.out at folder %s\"%folder\n",
    "    not0 = sorted(glob(folder+'/occupations-[1-9][1-9][1-9][1-9][1-9].out'))\n",
    "    witht0=t0+not0\n",
    "    for occup_path in witht0:\n",
    "        nstep, t =parse_occup(occup_path)\n",
    "        tstep=get_tstep(folder)\n",
    "        realstep=round(t/tstep)\n",
    "        if realstep!=nstep:\n",
    "            backupname=occup_path.replace('occupations','occupations_bk')\n",
    "            newname='/'.join(occup_path.split('/')[:-1]+['occupations-%.5d.out'%realstep])\n",
    "            print(occup_path,backupname,newname)\n",
    "            os.rename(occup_path,backupname)\n",
    "            shutil.copy(backupname,newname)"
   ]
  },
  {
   "cell_type": "code",
   "execution_count": 28,
   "metadata": {},
   "outputs": [],
   "source": [
    "correct_occup_name('/scratch/groups/ping_group/zbai29/RhSi/DMD/0.2eV-Andrew/low-window/highK/0.0005')"
   ]
  },
  {
   "cell_type": "markdown",
   "metadata": {},
   "source": [
    "Correct some naming mistake due to some previous bug of this scirpt"
   ]
  },
  {
   "cell_type": "code",
   "execution_count": 30,
   "metadata": {},
   "outputs": [],
   "source": [
    "for folder in folders.split():\n",
    "    ls=glob(folder+'/occupations_[1-9][1-9][1-9][1-9][1-9].out')\n",
    "    if len(ls)!=0:\n",
    "        print(folder)\n",
    "    for path in ls:\n",
    "        os.rename(path,path.replace('occupations_','occupations-'))\n"
   ]
  },
  {
   "cell_type": "code",
   "execution_count": null,
   "metadata": {},
   "outputs": [],
   "source": []
  }
 ],
 "metadata": {
  "kernelspec": {
   "display_name": "Python 3",
   "language": "python",
   "name": "python3"
  },
  "language_info": {
   "codemirror_mode": {
    "name": "ipython",
    "version": 3
   },
   "file_extension": ".py",
   "mimetype": "text/x-python",
   "name": "python",
   "nbconvert_exporter": "python",
   "pygments_lexer": "ipython3",
   "version": "3.12.2"
  }
 },
 "nbformat": 4,
 "nbformat_minor": 2
}
