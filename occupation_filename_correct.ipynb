{
 "cells": [
  {
   "cell_type": "code",
   "execution_count": 1,
   "metadata": {},
   "outputs": [],
   "source": [
    "import os\n",
    "import numpy as np\n",
    "from glob import glob\n",
    "import DMDana.lib.DMDparser as DMDparser\n",
    "import importlib"
   ]
  },
  {
   "cell_type": "code",
   "execution_count": 19,
   "metadata": {},
   "outputs": [],
   "source": [
    "folders='''/data/groups/ping/zbai15/data/ges/ld-dmd/init1/DMD/2.1eV/Ey0.00005\n",
    "/data/groups/ping/zbai15/data/ges/ld-dmd/init1/DMD/2.1eV/Ex0.00005\n",
    "/data/groups/ping/zbai15/data/ges/ld-dmd/init1/DMD/2.1eV/Ex0.00005_RTA\n",
    "/data/groups/ping/zbai15/data/ges/ld-dmd/init1/DMD/2.1eV/Ey0.00005-zero-extra-state2restart\n",
    "/data/groups/ping/zbai15/data/ges/ld-dmd/init1/DMD/2.1eV/Ey0.00500-zero-extra-state'''"
   ]
  },
  {
   "cell_type": "code",
   "execution_count": 25,
   "metadata": {},
   "outputs": [
    {
     "name": "stdout",
     "output_type": "stream",
     "text": [
      "excel_i\tnum\ttime\tstep_fs\ttime_match\n",
      "2\t235\t0.2\t0.200\tTrue\t/data/groups/ping/zbai15/data/ges/ld-dmd/init1/DMD/2.1eV/Ey0.00005\n",
      "3\t235\t0.2\t0.200\tTrue\t/data/groups/ping/zbai15/data/ges/ld-dmd/init1/DMD/2.1eV/Ex0.00005\n",
      "4\t111\t0.2\t0.200\tTrue\t/data/groups/ping/zbai15/data/ges/ld-dmd/init1/DMD/2.1eV/Ex0.00005_RTA\n",
      "5\t46267\t0.2\t0.200\tTrue\t/data/groups/ping/zbai15/data/ges/ld-dmd/init1/DMD/2.1eV/Ey0.00005-zero-extra-state2restart\n",
      "6\t15665\t0.2\t0.200\tTrue\t/data/groups/ping/zbai15/data/ges/ld-dmd/init1/DMD/2.1eV/Ey0.00500-zero-extra-state\n"
     ]
    }
   ],
   "source": [
    "print('excel_i\\tnum\\ttime\\tstep_fs\\ttime_match')\n",
    "from DMDana.lib.constant import *\n",
    "def parse_occup(occup_path):\n",
    "    nstep,t=DMDparser.read_text_from_file(occup_path,['nk =']*2,[9,12],True,float)\n",
    "    assert nstep!=None, \"file %s might be empty\"%occup_path\n",
    "    return nstep,t\n",
    "def get_tstep(folder):\n",
    "    DMDparam_value=DMDparser.get_DMD_param(folder)\n",
    "    return float(DMDparam_value['tstep_pump'])*fs\n",
    "    \n",
    "for i,folder in enumerate(folders.split()):\n",
    "    excel_i=2+i\n",
    "    t0=glob(folder+'/occupations_t0.out')\n",
    "    #assert t0!=[], \"Did not found occupations_t0.out at folder %s\"%folder\n",
    "    not0 = sorted(glob(folder+'/occupations-*out'))\n",
    "    witht0=t0+not0\n",
    "    tstep=get_tstep(folder)\n",
    "    \n",
    "    for occup_path in witht0:\n",
    "        nstep, t = parse_occup(occup_path)\n",
    "        realstepnum=round(t/tstep)\n",
    "        realtime=t/fs\n",
    "        timematch=(nstep==realstepnum)\n",
    "        if not timematch:\n",
    "            print('%d\\t%d\\t%.1f\\t%.3f\\t%s\\t%s'%(excel_i,len(witht0),realtime,(tstep/fs),timematch,folder))\n",
    "            break\n",
    "    if timematch:\n",
    "        print('%d\\t%d\\t%.1f\\t%.3f\\t%s\\t%s'%(excel_i,len(witht0),realtime,(tstep/fs),timematch,folder))\n"
   ]
  },
  {
   "cell_type": "code",
   "execution_count": 22,
   "metadata": {},
   "outputs": [],
   "source": [
    "import shutil\n",
    "def correct_occup_name(folder):\n",
    "    t0=glob(folder+'/occupations_t0.out')\n",
    "    #assert t0!=[], \"Did not found occupations_t0.out at folder %s\"%folder\n",
    "    not0 = sorted(glob(folder+'/occupations-*out'))\n",
    "    witht0=t0+not0\n",
    "    for occup_path in witht0:\n",
    "        nstep, t =parse_occup(occup_path)\n",
    "        tstep=get_tstep(folder)\n",
    "        realstep=round(t/tstep)\n",
    "        if realstep!=nstep:\n",
    "            backupname=occup_path.replace('occupations','occupations_bk')\n",
    "            newname='/'.join(occup_path.split('/')[:-1]+['occupations_%.5d.out'%realstep])\n",
    "            print(occup_path,backupname,newname)\n",
    "            os.rename(occup_path,backupname)\n",
    "            shutil.copy(backupname,newname)"
   ]
  },
  {
   "cell_type": "code",
   "execution_count": 24,
   "metadata": {},
   "outputs": [
    {
     "name": "stdout",
     "output_type": "stream",
     "text": [
      "/data/groups/ping/zbai15/data/ges/ld-dmd/init1/DMD/2.1eV/Ex0.00005/occupations_t0.out /data/groups/ping/zbai15/data/ges/ld-dmd/init1/DMD/2.1eV/Ex0.00005/occupations_bk_t0.out /data/groups/ping/zbai15/data/ges/ld-dmd/init1/DMD/2.1eV/Ex0.00005/occupations_23405.out\n"
     ]
    }
   ],
   "source": [
    "correct_occup_name('/data/groups/ping/zbai15/data/ges/ld-dmd/init1/DMD/2.1eV/Ex0.00005')"
   ]
  },
  {
   "cell_type": "code",
   "execution_count": null,
   "metadata": {},
   "outputs": [],
   "source": []
  }
 ],
 "metadata": {
  "kernelspec": {
   "display_name": "Python 3",
   "language": "python",
   "name": "python3"
  },
  "language_info": {
   "codemirror_mode": {
    "name": "ipython",
    "version": 3
   },
   "file_extension": ".py",
   "mimetype": "text/x-python",
   "name": "python",
   "nbconvert_exporter": "python",
   "pygments_lexer": "ipython3",
   "version": "3.11.5"
  }
 },
 "nbformat": 4,
 "nbformat_minor": 2
}
