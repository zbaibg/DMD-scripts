{
 "cells": [
  {
   "cell_type": "markdown",
   "metadata": {},
   "source": [
    "# Calculate"
   ]
  },
  {
   "cell_type": "code",
   "execution_count": 2,
   "metadata": {},
   "outputs": [],
   "source": [
    "from DMDana.lib.logic_func import *\n",
    "from DMDana.lib.parallel_folder_analysis import *\n",
    "from DMDana.lib.pandas_figure_gen import *"
   ]
  },
  {
   "cell_type": "code",
   "execution_count": null,
   "metadata": {},
   "outputs": [],
   "source": [
    "logic_func=analyze\n",
    "df=parallel_folder_analysis(analysis_functions=logic_func.func_list,core_num=20,index_shift=2,file_prefix=logic_func.file_prefix)"
   ]
  },
  {
   "cell_type": "code",
   "execution_count": null,
   "metadata": {},
   "outputs": [],
   "source": [
    "logic_func=summary\n",
    "df=parallel_folder_analysis(analysis_functions=logic_func.func_list,core_num=20,index_shift=2,file_prefix=logic_func.file_prefix)"
   ]
  },
  {
   "cell_type": "markdown",
   "metadata": {},
   "source": [
    "# Visualization"
   ]
  },
  {
   "cell_type": "code",
   "execution_count": null,
   "metadata": {},
   "outputs": [],
   "source": [
    "from DMDana.lib.logic_func import *\n",
    "from DMDana.lib.parallel_folder_analysis import *\n",
    "from DMDana.lib.pandas_figure_gen import *\n"
   ]
  },
  {
   "cell_type": "code",
   "execution_count": null,
   "metadata": {},
   "outputs": [],
   "source": [
    "EXCEL_INDEX_SHIFT=2\n",
    "data=pd.read_excel('summary_database_out.xlsx')\n",
    "data['excel_index']=data.index+EXCEL_INDEX_SHIFT\n",
    "data=data.set_index('excel_index')\n",
    "for i in data.columns:\n",
    "    print(i)"
   ]
  },
  {
   "cell_type": "code",
   "execution_count": null,
   "metadata": {},
   "outputs": [],
   "source": [
    "with open('Group') as f:\n",
    "    content=f.readlines()\n",
    "    for i,row in data.iterrows():\n",
    "        data.loc[row.name,'Group']=content[row.name-EXCEL_INDEX_SHIFT].strip()\n",
    "with open('System') as f:\n",
    "    content=f.readlines()\n",
    "    for i,row in data.iterrows():\n",
    "        data.loc[row.name,'System']=content[row.name-EXCEL_INDEX_SHIFT].strip()\n",
    "\n",
    "part_col=['System','Group','Light_pumpE','Light_pumpPoltype','Light_pumpA0','impurity_density','DM_upper_bound','DM_lower_bound','mu_eV','Kpoint-num','NkMult','Recomb_tau','RTA_tau_ps','bStart_tau','bEnd_tau','Eph-ePhDelta','EE-epsilon','DC_x','DC_y',\"DC_z\",'DC_diag_x','DC_diag_y',\"DC_diag_z\",'DC_offdiag_x','DC_offdiag_y',\"DC_offdiag_z\",'Cutoff_time_for_current_and_spectrum_calculation',\"Max_Occupation_change_Conduction\",'total_time_fs','Max_Occupation_change_Valence','mu_Boltz(eV)','T_Boltz(K)','time_fs_to_evaluate_occupation_change','folder']\n",
    "\n",
    "part=data[part_col]\n",
    "part.to_excel('ana.xlsx',index=False)"
   ]
  },
  {
   "cell_type": "code",
   "execution_count": null,
   "metadata": {},
   "outputs": [],
   "source": [
    "pd.set_option('display.max_columns', None)\n",
    "gaas_data=data[data['System'].str.contains('GaAs')]\n"
   ]
  },
  {
   "cell_type": "code",
   "execution_count": null,
   "metadata": {},
   "outputs": [],
   "source": [
    "gaas_data['DC_diag_x_percent']=gaas_data['DC_diag_x']/gaas_data['DC_x']\n",
    "gaas_data['DC_diag_y_percent']=gaas_data['DC_diag_y']/gaas_data['DC_y']\n",
    "gaas_data['DC_diag_z_percent']=gaas_data['DC_diag_z']/gaas_data['DC_z']\n",
    "gaas_data['DC_offdiag_x_percent']=gaas_data['DC_offdiag_x']/gaas_data['DC_x']\n",
    "gaas_data['DC_offdiag_y_percent']=gaas_data['DC_offdiag_y']/gaas_data['DC_y']\n",
    "gaas_data['DC_offdiag_z_percent']=gaas_data['DC_offdiag_z']/gaas_data['DC_z']"
   ]
  },
  {
   "cell_type": "code",
   "execution_count": null,
   "metadata": {},
   "outputs": [],
   "source": [
    "plot_multi_y_axis(gaas_data.sort_values(by='Max_Occupation_change_Conduction',ascending=False), 'System', ['Max_Occupation_change_Conduction','Max_Occupation_change_Valence'])\n",
    "plot_multi_y_axis(gaas_data.sort_values(by='Max_Occupation_change_Conduction',ascending=False), 'System', ['T_Boltz(K)','mu_Boltz(eV)'])\n",
    "plot_multi_y_axis(gaas_data.sort_values(by='Max_Occupation_change_Conduction',ascending=False), 'System', ['Max_Occupation_change_Conduction','Max_Occupation_change_Valence']+['T_Boltz(K)','mu_Boltz(eV)'])\n",
    "plot_multi_y_axis(gaas_data.sort_values(by='DC_z',ascending=True), 'System', ['DC_x','DC_z','DC_y'])\n",
    "plot_multi_y_axis(gaas_data.sort_values(by='DC_z',ascending=True), 'System',['DC_x','DC_diag_x','DC_offdiag_x'],sameaxis=True)\n",
    "plot_multi_y_axis(gaas_data.sort_values(by='DC_z',ascending=True), 'System',['DC_y','DC_diag_y','DC_offdiag_y'],sameaxis=True)\n",
    "plot_multi_y_axis(gaas_data.sort_values(by='DC_z',ascending=True), 'System',['DC_z','DC_diag_z','DC_offdiag_z'],sameaxis=True)\n",
    "#plot_multi_y_axis(gaas_data.sort_values(by='DC_z',ascending=True), 'System',['DC_offdiag_x_percent','DC_offdiag_y_percent','DC_offdiag_z_percent'])"
   ]
  },
  {
   "cell_type": "code",
   "execution_count": null,
   "metadata": {},
   "outputs": [],
   "source": [
    "             \n",
    "patterns = {\n",
    "    'conduction_occup_image_path': '*heatmap_Emin1.420eV_Emax1.610eV_fitted*',\n",
    "    'valence_occup_image_path': '*_heatmap_Emin-0.131eV_Emax0.010eV*',\n",
    "}\n",
    "\n",
    "annotations = [\n",
    "    (0, \"mu_Boltz(eV)={mu_Boltz(eV):.3f}\\nT_Boltz(K)={T_Boltz(K):.1f}\\nFinal_Max_Change={Max_Occupation_change_Conduction:.3f}\", \n",
    "     ((0.8, 0.8), 'right', 'top')),  \n",
    "    (1, \"Final_Max_Change={Max_Occupation_change_Valence:.3f}\", \n",
    "     ((0.2, 0.2), 'left', 'bottom'))\n",
    "]\n",
    "title=\"No.{name} {System}\"\n",
    "display_images(gaas_data.sort_values(by='Max_Occupation_change_Conduction',ascending=False), patterns, annotations,title=title)\n",
    "\n",
    "\n",
    "\n"
   ]
  },
  {
   "cell_type": "code",
   "execution_count": null,
   "metadata": {},
   "outputs": [],
   "source": [
    "current_annotations = []\n",
    "directions = ['x', 'y', 'z']\n",
    "components = ['', '_diag', '_offdiag']\n",
    "for dir_i, dir in enumerate(directions):\n",
    "    for compo_i, compo in enumerate(components):\n",
    "        annotation_text = f\"Final_DC{compo}_{dir}={{DC{compo}_{dir}:.2e}}\"\n",
    "        position = ((compo_i * 2 + 1) / 6, (dir_i * 2 + 1) / 6)  # 计算位置\n",
    "        current_annotations.append((0, annotation_text, (position, 'center', 'center')))  \n",
    "current_patterns = {\n",
    "    'current_image_path': '*j_smooth_off*',\n",
    "    'FFT_linear_image_path': '*Window_type=Flattop;log_yFalse-j-fft*',\n",
    "    'FFT_log_image_path': '*Window_type=Flattop;log_yTrue-j-fft*'\n",
    "    \n",
    "}\n",
    "title=\"No.{name} {System}\"\n",
    "display_images(gaas_data.sort_values(by='DC_z',ascending=False), current_patterns, current_annotations,title=title)"
   ]
  },
  {
   "cell_type": "code",
   "execution_count": null,
   "metadata": {},
   "outputs": [],
   "source": [
    "plot_correlation_heatmap(gaas_data, ['T_Boltz(K)', 'mu_Boltz(eV)', 'Max_Occupation_change_Conduction', 'Max_Occupation_change_Valence','mu_eV'], 'GaAs')"
   ]
  }
 ],
 "metadata": {
  "kernelspec": {
   "display_name": "base",
   "language": "python",
   "name": "python3"
  },
  "language_info": {
   "codemirror_mode": {
    "name": "ipython",
    "version": 3
   },
   "file_extension": ".py",
   "mimetype": "text/x-python",
   "name": "python",
   "nbconvert_exporter": "python",
   "pygments_lexer": "ipython3",
   "version": "3.12.2"
  }
 },
 "nbformat": 4,
 "nbformat_minor": 2
}
