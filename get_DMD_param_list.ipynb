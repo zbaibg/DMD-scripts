{
 "cells": [
  {
   "cell_type": "markdown",
   "metadata": {},
   "source": [
    "Read CPP and Write param list"
   ]
  },
  {
   "cell_type": "code",
   "execution_count": 1,
   "metadata": {},
   "outputs": [],
   "source": [
    "with open('/software/groups/ping_group/zbai29/DMDdebug/src/parameters.cpp') as file:\n",
    "    parameters_cpp=file.read()\n",
    "name=[]\n",
    "defaultval=[]\n",
    "unit=[]\n",
    "typelist=[]\n",
    "for i in parameters_cpp.splitlines():\n",
    "    if '(param_map' in i:\n",
    "        tmp=i.split(',')\n",
    "        if('getString') in tmp[0]:\n",
    "            typelist.append('str')\n",
    "        else:\n",
    "            typelist.append('float')\n",
    "        name.append(tmp[1].split('\\\"')[1])\n",
    "        defaultval.append(tmp[2].split(',')[0].split(')')[0].strip().strip('\\\"'))\n",
    "        if len(tmp)>3:\n",
    "            unit.append(tmp[3].split(')')[0].strip())\n",
    "        else:\n",
    "            unit.append('')\n",
    "with open('paramin_format','w') as file:\n",
    "    file.write('#name type\\n')\n",
    "    tmp=zip(name,typelist)\n",
    "    for i in tmp:\n",
    "        file.write(i[0]+','+str(i[1])+'\\n')\n",
    "with open('param_in_class.py','w') as file:\n",
    "    file.write('''from  pydantic import BaseModel\n",
    "class param_class(BaseModel):\\n''')\n",
    "    tmp=zip(name,typelist)\n",
    "    for i in tmp:\n",
    "        file.write('    '+i[0]+':'+str(i[1])+'=None\\n')\n"
   ]
  },
  {
   "cell_type": "markdown",
   "metadata": {},
   "source": [
    "Read Param list"
   ]
  },
  {
   "cell_type": "code",
   "execution_count": 2,
   "metadata": {},
   "outputs": [],
   "source": [
    "from dataclasses import dataclass,make_dataclass\n",
    "from DMDana.lib.constant import *\n",
    "namelist=[]\n",
    "typlist=[]\n",
    "with open('paramin_format') as file:\n",
    "    file.readline()\n",
    "    for line in file:\n",
    "        name,typ=line.split(',')\n",
    "        namelist.append(name)\n",
    "        typlist.append(eval(typ))\n",
    "typdict=dict(zip(namelist,typlist))"
   ]
  }
 ],
 "metadata": {
  "kernelspec": {
   "display_name": "base",
   "language": "python",
   "name": "python3"
  },
  "language_info": {
   "codemirror_mode": {
    "name": "ipython",
    "version": 3
   },
   "file_extension": ".py",
   "mimetype": "text/x-python",
   "name": "python",
   "nbconvert_exporter": "python",
   "pygments_lexer": "ipython3",
   "version": "3.12.2"
  }
 },
 "nbformat": 4,
 "nbformat_minor": 2
}
